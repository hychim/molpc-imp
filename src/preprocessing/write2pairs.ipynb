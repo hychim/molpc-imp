{
 "cells": [
  {
   "cell_type": "code",
   "execution_count": 5,
   "metadata": {},
   "outputs": [
    {
     "ename": "SyntaxError",
     "evalue": "invalid syntax (292056799.py, line 1)",
     "output_type": "error",
     "traceback": [
      "\u001b[0;36m  Cell \u001b[0;32mIn [5], line 1\u001b[0;36m\u001b[0m\n\u001b[0;31m    from Bio.PDB import PDBParser(), PDBIO(), Select()\u001b[0m\n\u001b[0m                                 ^\u001b[0m\n\u001b[0;31mSyntaxError\u001b[0m\u001b[0;31m:\u001b[0m invalid syntax\n"
     ]
    }
   ],
   "source": [
    "from Bio.PDB import PDBParser, PDBIO, Select\n",
    "import glob\n",
    "import itertools\n",
    "import numpy as np\n",
    "\n",
    "parser = PDBParser()\n",
    "\n",
    "def contact_map_btw(chainA, chainB):\n",
    "    contact_map = np.zeros((1,len(chainB)))\n",
    "    \n",
    "    for r_A in chainA:\n",
    "        dists = []\n",
    "        for r_B in chainB:\n",
    "            dists.append(r_A[\"CA\"] - r_B[\"CA\"])\n",
    "        contact_map = np.vstack([contact_map, dists])\n",
    "    return np.delete(contact_map, 0, 0)\n",
    "\n",
    "def interacting(chainA, chainB):\n",
    "    contact_map = contact_map_btw(chainA, chainB)\n",
    "    if np.min(contact_map)>8:\n",
    "        return False\n",
    "    else:\n",
    "        return True\n",
    "\n",
    "class ChainSelect(Select):\n",
    "    def __init__(self, pairs):\n",
    "        self.pairs = pairs\n",
    "    def accept_chain(self, chain):\n",
    "        if chain.get_id() == self.pairs[0] or chain.get_id() == self.pairs[1]:\n",
    "            return 1\n",
    "        else:\n",
    "            return 0\n",
    "\n",
    "def write_pairs(directory):\n",
    "    for pdb in glob.glob(directory):\n",
    "        pdb_id = pdb[-12:-4]\n",
    "        trimer_name = pdb[-7:-4]\n",
    "        structure = parser.get_structure(\"trimer\", pdb)\n",
    "\n",
    "        chain_lst = []\n",
    "        for chain in structure[0]:\n",
    "            chain_lst.append(chain.get_id())\n",
    "        perm = [p for p in itertools.combinations(chain_lst, 2)]        # for chain name, e.g. B, C, D\n",
    "        perm_ind = [p for p in itertools.combinations(trimer_name, 2)]  # for individual chain id, e.g. 0, 1, 2, 3\n",
    "        io = PDBIO()\n",
    "        io.set_structure(structure)\n",
    "        for i in range(len(perm)):\n",
    "            chainA = perm[i][0]\n",
    "            chainB = perm[i][1]\n",
    "            if interacting(structure[0][chainA], structure[0][chainB]):\n",
    "                io.save(f'{args.output_dir}{pdb_id}_{perm_ind[i][0]}{perm_ind[i][1]}_{chainA}{chainB}.pdb', ChainSelect(perm[i]))\n"
   ]
  },
  {
   "cell_type": "code",
   "execution_count": 4,
   "metadata": {},
   "outputs": [
    {
     "ename": "NameError",
     "evalue": "name 'parser' is not defined",
     "output_type": "error",
     "traceback": [
      "\u001b[0;31m---------------------------------------------------------------------------\u001b[0m",
      "\u001b[0;31mNameError\u001b[0m                                 Traceback (most recent call last)",
      "Cell \u001b[0;32mIn [4], line 1\u001b[0m\n\u001b[0;32m----> 1\u001b[0m structure \u001b[38;5;241m=\u001b[39m \u001b[43mparser\u001b[49m\u001b[38;5;241m.\u001b[39mget_structure(\u001b[38;5;124m\"\u001b[39m\u001b[38;5;124mtrimer\u001b[39m\u001b[38;5;124m\"\u001b[39m, \u001b[38;5;124m'\u001b[39m\u001b[38;5;124m../../output/1AVO/trimer/1AVO_010.pdb\u001b[39m\u001b[38;5;124m'\u001b[39m)\n",
      "\u001b[0;31mNameError\u001b[0m: name 'parser' is not defined"
     ]
    }
   ],
   "source": [
    "structure = parser.get_structure(\"trimer\", '../../output/1AVO/trimer/1AVO_010.pdb')"
   ]
  }
 ],
 "metadata": {
  "kernelspec": {
   "display_name": "Python 3.8.13 ('IMP')",
   "language": "python",
   "name": "python3"
  },
  "language_info": {
   "codemirror_mode": {
    "name": "ipython",
    "version": 3
   },
   "file_extension": ".py",
   "mimetype": "text/x-python",
   "name": "python",
   "nbconvert_exporter": "python",
   "pygments_lexer": "ipython3",
   "version": "3.8.13"
  },
  "orig_nbformat": 4,
  "vscode": {
   "interpreter": {
    "hash": "351fd177af4a0d74e5700f0e3aba1cf44ab8e45f831ea7f0b02992477caefab2"
   }
  }
 },
 "nbformat": 4,
 "nbformat_minor": 2
}
