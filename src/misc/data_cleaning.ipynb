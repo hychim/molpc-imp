{
 "cells": [
  {
   "cell_type": "code",
   "execution_count": 1,
   "metadata": {},
   "outputs": [],
   "source": [
    "import os\n",
    "import pandas as pd"
   ]
  },
  {
   "cell_type": "code",
   "execution_count": 60,
   "metadata": {},
   "outputs": [
    {
     "name": "stdout",
     "output_type": "stream",
     "text": [
      "3LAY\n",
      "1IS7\n",
      "5UK3\n",
      "1TR0\n",
      "2OBX\n",
      "1A8R\n",
      "2EWC\n",
      "3R90\n",
      "1IWA\n",
      "6SQR\n",
      "6JCV\n",
      "6OVH\n",
      "3VG8\n",
      "2D3A\n",
      "2WCV\n",
      "6ZKB\n",
      "4BHU\n",
      "1RVV\n",
      "6OSJ\n",
      "5XPB\n",
      "2GRE\n",
      "6SSI\n",
      "2VYR\n",
      "7JQZ\n",
      "1Q95\n",
      "3JVO\n",
      "1QAW\n",
      "2C41\n",
      "6RD7\n",
      "6QLV\n",
      "2WYR\n",
      "3MQ7\n",
      "3U6X\n",
      "3A2C\n",
      "1N8J\n",
      "2P1B\n",
      "7JZ2\n",
      "1TH7\n",
      "6FWH\n",
      "1JYM\n",
      "5K2M\n",
      "2V18\n",
      "2YMD\n",
      "6X04\n",
      "1YKK\n",
      "6ZEE\n",
      "4RAP\n",
      "2QJG\n",
      "2G9T\n",
      "1VDM\n",
      "1DW9\n",
      "6WBN\n",
      "3ZQM\n",
      "1M5Q\n",
      "6GRJ\n",
      "5BSE\n",
      "1F1H\n",
      "1NLX\n",
      "6SDZ\n",
      "1X9F\n",
      "1L0L\n",
      "3M1A\n",
      "2V7Q\n",
      "1X0R\n",
      "1I50\n",
      "2NV2\n",
      "6OFG\n",
      "6Z1F\n",
      "3ZK1\n",
      "1L6W\n",
      "6RKE\n",
      "3ZIA\n",
      "3ONR\n",
      "6RO0\n",
      "3N99\n",
      "6YBQ\n",
      "5F2Q\n",
      "1TYF\n",
      "6E7D\n",
      "2V5H\n",
      "4F4S\n",
      "5JYX\n",
      "7C4J\n",
      "5J09\n",
      "1HKX\n",
      "6LQH\n",
      "7JJP\n",
      "4RSU\n",
      "1G63\n",
      "1Z6O\n",
      "1D0I\n",
      "1H2I\n",
      "1KB9\n",
      "4K2J\n",
      "1BCF\n",
      "1AVO\n",
      "5N5E\n",
      "3BFJ\n",
      "2X2V\n",
      "2BX9\n",
      "4IC1\n",
      "6M3X\n",
      "1IJG\n",
      "6Z16\n",
      "2FKD\n",
      "3OOQ\n",
      "5B04\n",
      "3HHW\n",
      "1PCQ\n",
      "3TXQ\n",
      "5AA5\n",
      "3M0W\n",
      "1BHC\n",
      "1Q5Q\n",
      "5JQL\n",
      "6RDB\n",
      "6KWY\n",
      "3BJQ\n",
      "6UIW\n",
      "1IRU\n",
      "3K6C\n",
      "3ZNU\n",
      "1RBL\n",
      "5LK5\n",
      "6N3P\n",
      "2VYC\n",
      "2DD4\n",
      "1VF7\n",
      "4JPN\n",
      "6ZK9\n",
      "6KRB\n",
      "3FP9\n",
      "7CGE\n",
      "1NGK\n",
      "5T11\n",
      "1X0P\n",
      "4RDQ\n",
      "1KYO\n",
      "1KP8\n",
      "5ODC\n",
      "1DPS\n",
      "6W6M\n",
      "7JKC\n",
      "2BL2\n",
      "3DTD\n",
      "1G0U\n",
      "4C2M\n",
      "6QSU\n",
      "5OVS\n",
      "5CW7\n",
      "2E6G\n",
      "1M3U\n",
      "6G94\n",
      "5TRM\n",
      "2A3W\n",
      "4EJ0\n",
      "6MRT\n",
      "6UWR\n",
      "3KIF\n",
      "7AJP\n",
      "6ESQ\n",
      "6MST\n",
      "3TOS\n",
      "7NRQ\n",
      "6S5L\n",
      "5NFR\n",
      "1GH0\n",
      "2DJW\n"
     ]
    }
   ],
   "source": [
    "# assign directory\n",
    "directory = '../../data/MoLPC_path/'\n",
    " \n",
    "# iterate over files in\n",
    "# that directory\n",
    "for filename in os.listdir(directory):\n",
    "    print(filename[0:4])\n",
    "    f = os.path.join(directory, filename)\n",
    "    t = open(f, \"r\")\n",
    "    lines = t.readlines()\n",
    "    sources = \"\"\n",
    "    for line in lines[1:]:\n",
    "        name = line[4:-1]\n",
    "        A = line[0]\n",
    "        B = line[2]\n",
    "        A_find = name[-3:].find(A)\n",
    "        B_find = name[-3:].find(B)\n",
    "        if B_find>A_find:\n",
    "            sources = sources+f'{name}_{A}-{name}_{B}.pdb,'\n",
    "        elif A_find>B_find:\n",
    "            sources = sources+f'{name}_{B}-{name}_{A}.pdb,'\n",
    "    w = open('../../data/MoLPC_source/'+filename[0:4]+\".txt\", \"w\")\n",
    "    w.write(sources)\n",
    "    t.close()\n",
    "    w.close()\n"
   ]
  },
  {
   "cell_type": "code",
   "execution_count": 59,
   "metadata": {},
   "outputs": [
    {
     "data": {
      "text/plain": [
       "'2DJW_GFC_G-2DJW_GFC_C.pdb,2DJW_EJH_E-2DJW_EJH_J.pdb,2DJW_GFJ_F-2DJW_GFJ_J.pdb,2DJW_HFA_H-2DJW_HFA_F.pdb,2DJW_IEH_I-2DJW_IEH_H.pdb,2DJW_IAC_I-2DJW_IAC_A.pdb,2DJW_DGI_D-2DJW_DGI_G.pdb,2DJW_ACG_A-2DJW_ACG_G.pdb,'"
      ]
     },
     "execution_count": 59,
     "metadata": {},
     "output_type": "execute_result"
    }
   ],
   "source": [
    "sources"
   ]
  },
  {
   "cell_type": "code",
   "execution_count": 53,
   "metadata": {},
   "outputs": [
    {
     "data": {
      "text/plain": [
       "('J', 'A')"
      ]
     },
     "execution_count": 53,
     "metadata": {},
     "output_type": "execute_result"
    }
   ],
   "source": [
    "A, B"
   ]
  },
  {
   "cell_type": "code",
   "execution_count": 55,
   "metadata": {},
   "outputs": [
    {
     "data": {
      "text/plain": [
       "0"
      ]
     },
     "execution_count": 55,
     "metadata": {},
     "output_type": "execute_result"
    }
   ],
   "source": [
    "name[-3:].find(B)"
   ]
  },
  {
   "cell_type": "code",
   "execution_count": 26,
   "metadata": {},
   "outputs": [
    {
     "data": {
      "text/plain": [
       "'J,A,3LAY_AHJ\\n'"
      ]
     },
     "execution_count": 26,
     "metadata": {},
     "output_type": "execute_result"
    }
   ],
   "source": [
    "line"
   ]
  },
  {
   "cell_type": "code",
   "execution_count": 35,
   "metadata": {},
   "outputs": [
    {
     "data": {
      "text/plain": [
       "208"
      ]
     },
     "execution_count": 35,
     "metadata": {},
     "output_type": "execute_result"
    }
   ],
   "source": [
    "# 1IJG_ABC_A-1IJG_ABC_C.pdb\n",
    "\n",
    "sources = \"\"\n",
    "for line in lines[1:]:\n",
    "    name = line[4:-1]\n",
    "    A = line[0]\n",
    "    B = line[2]\n",
    "    sources = sources+f'{name}_{A}-{name}_{B}.pdb,'\n",
    "w = open('test.txt', \"w\")\n",
    "w.write(sources)"
   ]
  },
  {
   "cell_type": "code",
   "execution_count": 36,
   "metadata": {},
   "outputs": [
    {
     "data": {
      "text/plain": [
       "['Chain,Edge_chain,Source\\n',\n",
       " 'B,E,3LAY_EBI\\n',\n",
       " 'E,H,3LAY_HIE\\n',\n",
       " 'H,C,3LAY_CHJ\\n',\n",
       " 'C,D,3LAY_DBC\\n',\n",
       " 'G,A,3LAY_AGC\\n',\n",
       " 'D,I,3LAY_IDF\\n',\n",
       " 'I,J,3LAY_BJI\\n',\n",
       " 'J,A,3LAY_AHJ\\n']"
      ]
     },
     "execution_count": 36,
     "metadata": {},
     "output_type": "execute_result"
    }
   ],
   "source": [
    "lines"
   ]
  },
  {
   "cell_type": "code",
   "execution_count": 28,
   "metadata": {},
   "outputs": [
    {
     "data": {
      "text/plain": [
       "['asdsa', 'asdsadsa', 'asdsadsadsad', 'asdsadsad', '']"
      ]
     },
     "execution_count": 28,
     "metadata": {},
     "output_type": "execute_result"
    }
   ],
   "source": [
    "test = \"asdsa,asdsadsa,asdsadsadsad,asdsadsad,\"\n",
    "test.split(',')"
   ]
  },
  {
   "cell_type": "code",
   "execution_count": null,
   "metadata": {},
   "outputs": [],
   "source": []
  },
  {
   "cell_type": "code",
   "execution_count": null,
   "metadata": {},
   "outputs": [],
   "source": []
  },
  {
   "cell_type": "code",
   "execution_count": 7,
   "metadata": {},
   "outputs": [],
   "source": [
    "df = pd.read_csv('../../data/metadata/num_chain_assembly.csv').drop_duplicates()"
   ]
  },
  {
   "cell_type": "code",
   "execution_count": 10,
   "metadata": {},
   "outputs": [],
   "source": [
    "df.to_csv('test.csv', index=False)"
   ]
  }
 ],
 "metadata": {
  "kernelspec": {
   "display_name": "Python 3.8.13 ('IMP')",
   "language": "python",
   "name": "python3"
  },
  "language_info": {
   "codemirror_mode": {
    "name": "ipython",
    "version": 3
   },
   "file_extension": ".py",
   "mimetype": "text/x-python",
   "name": "python",
   "nbconvert_exporter": "python",
   "pygments_lexer": "ipython3",
   "version": "3.8.13"
  },
  "orig_nbformat": 4,
  "vscode": {
   "interpreter": {
    "hash": "351fd177af4a0d74e5700f0e3aba1cf44ab8e45f831ea7f0b02992477caefab2"
   }
  }
 },
 "nbformat": 4,
 "nbformat_minor": 2
}
