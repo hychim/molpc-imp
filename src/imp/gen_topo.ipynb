{
 "cells": [
  {
   "cell_type": "raw",
   "metadata": {},
   "source": [
    "TEMPLATE\n",
    "\n",
    "|molecule_name|color |fasta_fn           |fasta_id |pdb_fn    |chain|residue_range|pdb_offset|bead_size|em_residues_per_gaussian|rigid_body|super_rigid_body|chain_of_super_rigid_bodies|\n",
    "|chain_A      |blue  |rcsb_pdb_2BL2.fasta|2BL2_1|2BL2_1.pdb|A    |1,END        |0         |20       |0                       |1         |1||\n",
    "|chain_B      |red   |rcsb_pdb_2BL2.fasta|2BL2_1|2BL2_1.pdb|A    |1,END        |0         |20       |0                       |2         |2||\n",
    "|chain_C      |yellow|rcsb_pdb_2BL2.fasta|2BL2_1|2BL2_1.pdb|A    |1,END        |0         |20       |0                       |3         |3||\n",
    "|chain_D      |salmon|rcsb_pdb_2BL2.fasta|2BL2_1|2BL2_1.pdb|A    |1,END        |0         |20       |0                       |4         |4||\n",
    "|chain_E      |gold  |rcsb_pdb_2BL2.fasta|2BL2_1|2BL2_1.pdb|A    |1,END        |0         |20       |0                       |5         |5||\n",
    "|chain_F      |pink  |rcsb_pdb_2BL2.fasta|2BL2_1|2BL2_1.pdb|A    |1,END        |0         |20       |0                       |6         |6||\n",
    "|chain_G      |gray  |rcsb_pdb_2BL2.fasta|2BL2_1|2BL2_1.pdb|A    |1,END        |0         |20       |0                       |7         |7||\n",
    "|chain_H      |orange|rcsb_pdb_2BL2.fasta|2BL2_1|2BL2_1.pdb|A    |1,END        |0         |20       |0                       |8         |8||\n",
    "|chain_I      |tan   |rcsb_pdb_2BL2.fasta|2BL2_1|2BL2_1.pdb|A    |1,END        |0         |20       |0                       |9         |9||\n",
    "|chain_J      |brown |rcsb_pdb_2BL2.fasta|2BL2_1|2BL2_1.pdb|A    |1,END        |0         |20       |0                       |10        |10||"
   ]
  },
  {
   "cell_type": "code",
   "execution_count": 1,
   "metadata": {},
   "outputs": [],
   "source": [
    "title = [\n",
    "    \"molecule_name\", \n",
    "    \"color\", \n",
    "    \"fasta_fn\", \n",
    "    \"fasta_id\", \n",
    "    \"pdb_fn\", \n",
    "    \"chain\", \n",
    "    \"residue_range\", \n",
    "    \"pdb_offset\", \n",
    "    \"bead_size\", \n",
    "    \"em_residues_per_gaussian\", \n",
    "    \"rigid_body\", \n",
    "    \"super_rigid_body\", \n",
    "    \"chain_of_super_rigid_bodies\"]\n",
    "\n",
    "chain_name = ['A', 'B', 'C', 'D', 'E', 'F', 'G', 'H', 'I', 'J', 'K', 'L', 'M', 'N', 'O', 'P', 'Q', 'R', 'S', 'T', 'U', 'V', 'W', 'X', 'Y', 'Z']\n",
    "\n",
    "top60_color = [\n",
    "    \"tan\",\n",
    "    \"sienna\",\n",
    "    \"brown\",\n",
    "    \"dark red\",\n",
    "    \"firebrick\",\n",
    "    \"salmon\",\n",
    "    \"red\",\n",
    "    \"coral\",\n",
    "    \"sandy brown\",\n",
    "    \"orange red\",\n",
    "    \"orange\",\n",
    "    \"goldenrod\",\n",
    "    \"gold\",\n",
    "    \"yellow\",\n",
    "    \"khaki\",\n",
    "    \"dark khaki\",\n",
    "    \"dark olive green\",\n",
    "    \"olive drab\",\n",
    "    \"chartreuse\",\n",
    "    \"green\",\n",
    "    \"dark green\",\n",
    "    \"forest green\",\n",
    "    \"lime green\",\n",
    "    \"light green\",\n",
    "    \"sea green\",\n",
    "    \"spring green\",\n",
    "    \"dark cyan\",\n",
    "    \"light sea green\",\n",
    "    \"turquoise\",\n",
    "    \"aquamarine\",\n",
    "    \"cyan\",\n",
    "    \"deep sky blue\",\n",
    "    \"dodger blue\",\n",
    "    \"steel blue\",\n",
    "    \"sky blue\",\n",
    "    \"light blue\",\n",
    "    \"blue\",\n",
    "    \"medium blue\",\n",
    "    \"cornflower blue\",\n",
    "    \"navy blue\",\n",
    "    \"dark slate blue\",\n",
    "    \"medium purple\",\n",
    "    \"purple\",\n",
    "    \"plum\",\n",
    "    \"orchid\",\n",
    "    \"magenta\",\n",
    "    \"dark magenta\",\n",
    "    \"violet red\",\n",
    "    \"hot pink\",\n",
    "    \"pink\",\n",
    "    \"deep pink\",\n",
    "    \"rosy brown\",\n",
    "    \"slate gray\",\n",
    "    \"dark slate gray\",\n",
    "    \"white\",\n",
    "    \"light gray\",\n",
    "    \"gray\",\n",
    "    \"dark gray\",\n",
    "    \"dim gray\",\n",
    "    \"black\"]"
   ]
  },
  {
   "cell_type": "code",
   "execution_count": 36,
   "metadata": {},
   "outputs": [],
   "source": [
    "with open('../mcts/output/2BL2/2BL2_output.txt') as f:\n",
    "    lines = f.read().splitlines()\n",
    "for i in lines[3:]:\n",
    "    line = i.split(',')\n",
    "    break"
   ]
  },
  {
   "cell_type": "code",
   "execution_count": 37,
   "metadata": {},
   "outputs": [
    {
     "data": {
      "text/plain": [
       "['a', 'b', '2BL2/pairs/2BL2_000_00_CD.pdb']"
      ]
     },
     "execution_count": 37,
     "metadata": {},
     "output_type": "execute_result"
    }
   ],
   "source": [
    "line"
   ]
  },
  {
   "cell_type": "code",
   "execution_count": 24,
   "metadata": {},
   "outputs": [],
   "source": [
    "pdb_id = '2BL2'\n",
    "\n",
    "pdb_path = lines[0]\n",
    "chains = lines[1].split(' ')\n",
    "chains_id = lines[2].split(' ')\n",
    "\n",
    "length = len(chains)"
   ]
  },
  {
   "cell_type": "code",
   "execution_count": 25,
   "metadata": {},
   "outputs": [
    {
     "name": "stdout",
     "output_type": "stream",
     "text": [
      "|molecule_name|color|fasta_fn|fasta_id |pdb_fn|chain|residue_range|pdb_offset|bead_size|em_residues_per_gaussian|rigid_body|super_rigid_body|chain_of_super_rigid_bodies|\n",
      "|chain_a|tan              |2BL2.fasta|2BL2_0|output/2BL2/2BL2_final.pdb|a|1,END|0|20|0| 1||\n",
      "|chain_b|sienna           |2BL2.fasta|2BL2_0|output/2BL2/2BL2_final.pdb|b|1,END|0|20|0| 2||\n",
      "|chain_c|brown            |2BL2.fasta|2BL2_0|output/2BL2/2BL2_final.pdb|c|1,END|0|20|0| 3||\n",
      "|chain_d|dark red         |2BL2.fasta|2BL2_0|output/2BL2/2BL2_final.pdb|d|1,END|0|20|0| 4||\n",
      "|chain_e|firebrick        |2BL2.fasta|2BL2_0|output/2BL2/2BL2_final.pdb|e|1,END|0|20|0| 5||\n",
      "|chain_f|salmon           |2BL2.fasta|2BL2_0|output/2BL2/2BL2_final.pdb|f|1,END|0|20|0| 6||\n",
      "|chain_g|red              |2BL2.fasta|2BL2_0|output/2BL2/2BL2_final.pdb|g|1,END|0|20|0| 7||\n",
      "|chain_h|coral            |2BL2.fasta|2BL2_0|output/2BL2/2BL2_final.pdb|h|1,END|0|20|0| 8||\n",
      "|chain_i|sandy brown      |2BL2.fasta|2BL2_0|output/2BL2/2BL2_final.pdb|i|1,END|0|20|0| 9||\n",
      "|chain_j|orange red       |2BL2.fasta|2BL2_0|output/2BL2/2BL2_final.pdb|j|1,END|0|20|0|10||\n"
     ]
    }
   ],
   "source": [
    "print(\"|molecule_name|color|fasta_fn|fasta_id |pdb_fn|chain|residue_range|pdb_offset|bead_size|em_residues_per_gaussian|rigid_body|super_rigid_body|chain_of_super_rigid_bodies|\")\n",
    "for idx in range(length):\n",
    "    line = f'|chain_{chains[idx]}|{top60_color[idx]:17}|{pdb_id}.fasta|{pdb_id}_{chains_id[idx]}|{pdb_path}|{chains[idx]}|1,END|0|20|0|{idx+1:2}||'\n",
    "    print(line)"
   ]
  },
  {
   "cell_type": "code",
   "execution_count": 18,
   "metadata": {},
   "outputs": [],
   "source": [
    "id = \"7NQR\"\n",
    "length = 10\n",
    "sub_id = id+'_1'"
   ]
  },
  {
   "cell_type": "code",
   "execution_count": 19,
   "metadata": {},
   "outputs": [
    {
     "name": "stdout",
     "output_type": "stream",
     "text": [
      "|molecule_name|color|fasta_fn|fasta_id |pdb_fn|chain|residue_range|pdb_offset|bead_size|em_residues_per_gaussian|rigid_body|super_rigid_body|chain_of_super_rigid_bodies|\n",
      "|chain_A|tan              |7NQR.fasta|7NQR_1|7NQR_1.pdb|A|1,END|0|20|0| 1||\n",
      "|chain_B|sienna           |7NQR.fasta|7NQR_1|7NQR_1.pdb|A|1,END|0|20|0| 2||\n",
      "|chain_C|brown            |7NQR.fasta|7NQR_1|7NQR_1.pdb|A|1,END|0|20|0| 3||\n",
      "|chain_D|dark red         |7NQR.fasta|7NQR_1|7NQR_1.pdb|A|1,END|0|20|0| 4||\n",
      "|chain_E|firebrick        |7NQR.fasta|7NQR_1|7NQR_1.pdb|A|1,END|0|20|0| 5||\n",
      "|chain_F|salmon           |7NQR.fasta|7NQR_1|7NQR_1.pdb|A|1,END|0|20|0| 6||\n",
      "|chain_G|red              |7NQR.fasta|7NQR_1|7NQR_1.pdb|A|1,END|0|20|0| 7||\n",
      "|chain_H|coral            |7NQR.fasta|7NQR_1|7NQR_1.pdb|A|1,END|0|20|0| 8||\n",
      "|chain_I|sandy brown      |7NQR.fasta|7NQR_1|7NQR_1.pdb|A|1,END|0|20|0| 9||\n",
      "|chain_J|orange red       |7NQR.fasta|7NQR_1|7NQR_1.pdb|A|1,END|0|20|0|10||\n"
     ]
    }
   ],
   "source": [
    "print(\"|molecule_name|color|fasta_fn|fasta_id |pdb_fn|chain|residue_range|pdb_offset|bead_size|em_residues_per_gaussian|rigid_body|super_rigid_body|chain_of_super_rigid_bodies|\")\n",
    "for idx in range(length):\n",
    "    line = f'|chain_{chain_name[idx]}|{top60_color[idx]:17}|{id}.fasta|{sub_id}|{sub_id}.pdb|A|1,END|0|20|0|{idx+1:2}||'\n",
    "    print(line)"
   ]
  },
  {
   "cell_type": "code",
   "execution_count": 21,
   "metadata": {},
   "outputs": [],
   "source": [
    "import pandas as pd\n",
    "\n",
    "df = pd.read_csv(\"../../data/homomer.csv\", header=None)\n",
    "df_chain = pd.read_csv(\"../../data/num_chain.csv\", header=None)"
   ]
  },
  {
   "cell_type": "code",
   "execution_count": 47,
   "metadata": {},
   "outputs": [
    {
     "data": {
      "text/plain": [
       "12"
      ]
     },
     "execution_count": 47,
     "metadata": {},
     "output_type": "execute_result"
    }
   ],
   "source": [
    "df_chain[df_chain[0]==\"1BCF.pdb\"][1]"
   ]
  },
  {
   "cell_type": "code",
   "execution_count": 56,
   "metadata": {},
   "outputs": [
    {
     "name": "stdout",
     "output_type": "stream",
     "text": [
      "|molecule_name|color|fasta_fn|fasta_id |pdb_fn|chain|residue_range|pdb_offset|bead_size|em_residues_per_gaussian|rigid_body|super_rigid_body|chain_of_super_rigid_bodies|\n",
      "|chain_A|tan              |1A8R_1.fasta|1A8R_1|1A8R_1.pdb|A|1,END|0|20|0| 1||\n",
      "|chain_B|sienna           |1A8R_1.fasta|1A8R_1|1A8R_1.pdb|A|1,END|0|20|0| 2||\n",
      "|chain_C|brown            |1A8R_1.fasta|1A8R_1|1A8R_1.pdb|A|1,END|0|20|0| 3||\n",
      "|chain_D|dark red         |1A8R_1.fasta|1A8R_1|1A8R_1.pdb|A|1,END|0|20|0| 4||\n",
      "|chain_E|firebrick        |1A8R_1.fasta|1A8R_1|1A8R_1.pdb|A|1,END|0|20|0| 5||\n",
      "|chain_F|salmon           |1A8R_1.fasta|1A8R_1|1A8R_1.pdb|A|1,END|0|20|0| 6||\n",
      "|chain_G|red              |1A8R_1.fasta|1A8R_1|1A8R_1.pdb|A|1,END|0|20|0| 7||\n",
      "|chain_H|coral            |1A8R_1.fasta|1A8R_1|1A8R_1.pdb|A|1,END|0|20|0| 8||\n",
      "|chain_I|sandy brown      |1A8R_1.fasta|1A8R_1|1A8R_1.pdb|A|1,END|0|20|0| 9||\n",
      "|chain_J|orange red       |1A8R_1.fasta|1A8R_1|1A8R_1.pdb|A|1,END|0|20|0|10||\n",
      "|chain_K|orange           |1A8R_1.fasta|1A8R_1|1A8R_1.pdb|A|1,END|0|20|0|11||\n",
      "|chain_L|goldenrod        |1A8R_1.fasta|1A8R_1|1A8R_1.pdb|A|1,END|0|20|0|12||\n",
      "|chain_M|gold             |1A8R_1.fasta|1A8R_1|1A8R_1.pdb|A|1,END|0|20|0|13||\n",
      "|chain_N|yellow           |1A8R_1.fasta|1A8R_1|1A8R_1.pdb|A|1,END|0|20|0|14||\n",
      "|chain_O|khaki            |1A8R_1.fasta|1A8R_1|1A8R_1.pdb|A|1,END|0|20|0|15||\n"
     ]
    }
   ],
   "source": [
    "for idx in range(len(df)):\n",
    "    filename = df[0][idx]\n",
    "    length = df_chain[df_chain[0]==filename][1].values[0]\n",
    "    sub_id = df[0][idx][0:4]+\"_1\"\n",
    "\n",
    "    print(\"|molecule_name|color|fasta_fn|fasta_id |pdb_fn|chain|residue_range|pdb_offset|bead_size|em_residues_per_gaussian|rigid_body|super_rigid_body|chain_of_super_rigid_bodies|\")\n",
    "    for idx in range(length):\n",
    "        line = f'|chain_{chain_name[idx]}|{top60_color[idx]:17}|{sub_id}.fasta|{sub_id}|{sub_id}.pdb|A|1,END|0|20|0|{idx+1:2}||'\n",
    "        print(line)\n",
    "\n",
    "    break"
   ]
  }
 ],
 "metadata": {
  "kernelspec": {
   "display_name": "Python 3.8.13 ('IMP')",
   "language": "python",
   "name": "python3"
  },
  "language_info": {
   "codemirror_mode": {
    "name": "ipython",
    "version": 3
   },
   "file_extension": ".py",
   "mimetype": "text/x-python",
   "name": "python",
   "nbconvert_exporter": "python",
   "pygments_lexer": "ipython3",
   "version": "3.8.13"
  },
  "orig_nbformat": 4,
  "vscode": {
   "interpreter": {
    "hash": "351fd177af4a0d74e5700f0e3aba1cf44ab8e45f831ea7f0b02992477caefab2"
   }
  }
 },
 "nbformat": 4,
 "nbformat_minor": 2
}
