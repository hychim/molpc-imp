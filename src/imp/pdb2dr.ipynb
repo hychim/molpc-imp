{
 "cells": [
  {
   "cell_type": "code",
   "execution_count": null,
   "metadata": {},
   "outputs": [],
   "source": [
    "import sys\n",
    "import os\n",
    "import argparse\n",
    "\n",
    "import Bio.PDB\n",
    "import Bio.PDB.StructureBuilder\n",
    "from Bio.PDB.Residue import Residue\n",
    "from Bio.PDB import PDBParser\n"
   ]
  },
  {
   "cell_type": "code",
   "execution_count": 10,
   "metadata": {},
   "outputs": [],
   "source": [
    "dimer_dir = \"path_find/2BL2_pairs/\"\n",
    "dimer_lst = \"path_find/assembly_source.txt\"\n",
    "dist = 6\n",
    "outdir = \"test_dr.csv\"\n",
    "\n",
    "pdb_parser = PDBParser(PERMISSIVE=1)"
   ]
  },
  {
   "cell_type": "code",
   "execution_count": 14,
   "metadata": {},
   "outputs": [],
   "source": [
    "with open(dimer_lst) as f:\n",
    "    lines = f.readlines()\n",
    "\n",
    "dimer_lst = lines[0].split(\",\")"
   ]
  },
  {
   "cell_type": "code",
   "execution_count": 20,
   "metadata": {},
   "outputs": [
    {
     "name": "stdout",
     "output_type": "stream",
     "text": [
      "['A', 'C']\n",
      "['C', 'B']\n",
      "['B', 'D']\n",
      "['D', 'E']\n",
      "['E', 'F']\n",
      "['F', 'G']\n",
      "['G', 'H']\n",
      "['H', 'I']\n",
      "['I', 'J']\n"
     ]
    }
   ],
   "source": [
    "f = open(outdir,'w')\n",
    "\n",
    "for pdb in dimer_lst:\n",
    "    structure_id = pdb\n",
    "    filename = f\"{dimer_dir}{pdb}\"\n",
    "    structure = pdb_parser.get_structure(structure_id, filename)\n",
    "    model = structure[0]\n",
    "\n",
    "    chain_lst = []\n",
    "    for chain in model.get_chains():\n",
    "        chain_lst.append(chain.get_id())\n",
    "    chainA = model[chain_lst[0]]\n",
    "    chainB = model[chain_lst[1]]\n",
    "    print(chain_lst)\n",
    "\n",
    "\n",
    "    for residue in chainA:\n",
    "        first_A = residue.get_id()[1]\n",
    "        break\n",
    "    for residue in chainB:\n",
    "        first_B = residue.get_id()[1]\n",
    "        break\n",
    "\n",
    "    # loop through all residue in chain\n",
    "    # ONLY WORKS FOR DIMER NOW\n",
    "    for residue1 in chainA:\n",
    "        for residue2 in chainB:\n",
    "            try:\n",
    "                # compute distance between CA atomsdirec\n",
    "                # should use NeighborSearch modeule in biopython\n",
    "                distance = residue1['CA'] - residue2['CA'] \n",
    "            except KeyError:\n",
    "                ## no CA atom, e.g. for H_NAG\n",
    "                continue\n",
    "            if distance < dist:\n",
    "                line = f\"chain_{chainA.get_id()},{residue1.get_id()[1]-first_A+1},chain_{chainB.get_id()},{residue2.get_id()[1]-first_B+1},{distance} \\n\"\n",
    "                f.write(line)\n",
    "\n",
    "f.close()"
   ]
  },
  {
   "cell_type": "code",
   "execution_count": 19,
   "metadata": {},
   "outputs": [
    {
     "name": "stdout",
     "output_type": "stream",
     "text": [
      "357\n",
      "713\n"
     ]
    }
   ],
   "source": [
    "for r in chainA:\n",
    "    print(r.get_id()[1])\n",
    "    break\n",
    "for r in chainB:\n",
    "    print(r.get_id()[1])\n",
    "    break"
   ]
  }
 ],
 "metadata": {
  "kernelspec": {
   "display_name": "Python 3.8.13 ('IMP')",
   "language": "python",
   "name": "python3"
  },
  "language_info": {
   "codemirror_mode": {
    "name": "ipython",
    "version": 3
   },
   "file_extension": ".py",
   "mimetype": "text/x-python",
   "name": "python",
   "nbconvert_exporter": "python",
   "pygments_lexer": "ipython3",
   "version": "3.8.13"
  },
  "orig_nbformat": 4,
  "vscode": {
   "interpreter": {
    "hash": "351fd177af4a0d74e5700f0e3aba1cf44ab8e45f831ea7f0b02992477caefab2"
   }
  }
 },
 "nbformat": 4,
 "nbformat_minor": 2
}
