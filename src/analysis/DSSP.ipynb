{
 "cells": [
  {
   "cell_type": "code",
   "execution_count": null,
   "id": "6f3b6106",
   "metadata": {},
   "outputs": [],
   "source": [
    "#DSSP\n",
    "#https://colab.research.google.com/github/sokrypton/ColabBio/blob/main/notebooks/get_sse.ipynb#scrollTo=tdMV3lyQY34T"
   ]
  }
 ],
 "metadata": {
  "kernelspec": {
   "display_name": "Python 3 (ipykernel)",
   "language": "python",
   "name": "python3"
  },
  "language_info": {
   "codemirror_mode": {
    "name": "ipython",
    "version": 3
   },
   "file_extension": ".py",
   "mimetype": "text/x-python",
   "name": "python",
   "nbconvert_exporter": "python",
   "pygments_lexer": "ipython3",
   "version": "3.8.12"
  }
 },
 "nbformat": 4,
 "nbformat_minor": 5
}
