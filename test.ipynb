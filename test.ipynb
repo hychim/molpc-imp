{
 "cells": [
  {
   "cell_type": "code",
   "execution_count": 19,
   "metadata": {},
   "outputs": [],
   "source": [
    "from Bio.PDB import PDBParser, Superimposer, PDBIO\n",
    "\n",
    "def dist_comp(chainA, chainB):\n",
    "    contact_map = []\n",
    "    \n",
    "    for r_A in chainA:\n",
    "        dists = []\n",
    "        for r_B in chainB:\n",
    "            dists.append(r_A[\"CA\"] - r_B[\"CA\"])\n",
    "        contact_map += dists\n",
    "    return contact_map\n",
    "\n",
    "def count_interface(structure):\n",
    "    num_interface = 0\n",
    "    for chainA in structure[0]:\n",
    "        for chainB in structure[0]:\n",
    "            if chainA.get_id() != chainB.get_id():\n",
    "                contact_map = dist_comp(chainA, chainB)\n",
    "                if 8 > min(contact_map): # 8 is the threshold for interacting protein\n",
    "                    num_interface += 1\n",
    "    return num_interface/2\n",
    "\n",
    "def count_interface_chain(structure):\n",
    "    num_interface_lst = []\n",
    "    for chainA in structure[0]:\n",
    "        num_interface = 0\n",
    "        for chainB in structure[0]:\n",
    "            if chainA.get_id() != chainB.get_id():\n",
    "                contact_map = dist_comp(chainA, chainB)\n",
    "                if 12 > min(contact_map): # 8 is the threshold for interacting protein\n",
    "                    num_interface += 1\n",
    "        num_interface_lst.append(num_interface)\n",
    "    return num_interface_lst\n",
    "\n",
    "parser = PDBParser()"
   ]
  },
  {
   "cell_type": "code",
   "execution_count": 20,
   "metadata": {},
   "outputs": [],
   "source": [
    "structure = parser.get_structure(\"child\", '1AVO_step12.pdb')"
   ]
  },
  {
   "cell_type": "code",
   "execution_count": 22,
   "metadata": {},
   "outputs": [
    {
     "data": {
      "text/plain": [
       "[2, 3, 4, 5, 5, 5, 4, 3, 5, 5, 5, 4]"
      ]
     },
     "execution_count": 22,
     "metadata": {},
     "output_type": "execute_result"
    }
   ],
   "source": [
    "lst = count_interface_chain(structure)\n",
    "lst"
   ]
  },
  {
   "cell_type": "code",
   "execution_count": 26,
   "metadata": {},
   "outputs": [
    {
     "data": {
      "text/plain": [
       "['a', 'b', 'c', 'd', 'e', 'f', 'g', 'h', 'i', 'j', 'k', 'l']"
      ]
     },
     "execution_count": 26,
     "metadata": {},
     "output_type": "execute_result"
    }
   ],
   "source": [
    "path = [chain.get_id() for chain in structure[0]]\n",
    "path"
   ]
  },
  {
   "cell_type": "code",
   "execution_count": 29,
   "metadata": {},
   "outputs": [
    {
     "data": {
      "text/plain": [
       "['a', 'b', 'c', 'g', 'h', 'l']"
      ]
     },
     "execution_count": 29,
     "metadata": {},
     "output_type": "execute_result"
    }
   ],
   "source": [
    "\n",
    "shortlisted"
   ]
  },
  {
   "cell_type": "code",
   "execution_count": 28,
   "metadata": {},
   "outputs": [
    {
     "data": {
      "text/plain": [
       "['a', 'b', 'c', 'g', 'h', 'l']"
      ]
     },
     "execution_count": 28,
     "metadata": {},
     "output_type": "execute_result"
    }
   ],
   "source": []
  }
 ],
 "metadata": {
  "kernelspec": {
   "display_name": "Python 3.8.13 ('IMP')",
   "language": "python",
   "name": "python3"
  },
  "language_info": {
   "codemirror_mode": {
    "name": "ipython",
    "version": 3
   },
   "file_extension": ".py",
   "mimetype": "text/x-python",
   "name": "python",
   "nbconvert_exporter": "python",
   "pygments_lexer": "ipython3",
   "version": "3.8.13"
  },
  "orig_nbformat": 4,
  "vscode": {
   "interpreter": {
    "hash": "351fd177af4a0d74e5700f0e3aba1cf44ab8e45f831ea7f0b02992477caefab2"
   }
  }
 },
 "nbformat": 4,
 "nbformat_minor": 2
}
